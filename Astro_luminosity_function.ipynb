{
  "nbformat": 4,
  "nbformat_minor": 0,
  "metadata": {
    "colab": {
      "provenance": [],
      "collapsed_sections": [],
      "include_colab_link": true
    },
    "kernelspec": {
      "name": "python3",
      "display_name": "Python 3"
    },
    "language_info": {
      "name": "python"
    }
  },
  "cells": [
    {
      "cell_type": "markdown",
      "metadata": {
        "id": "view-in-github",
        "colab_type": "text"
      },
      "source": [
        "<a href=\"https://colab.research.google.com/github/csabiu/astronomy/blob/main/Astro_luminosity_function.ipynb\" target=\"_parent\"><img src=\"https://colab.research.google.com/assets/colab-badge.svg\" alt=\"Open In Colab\"/></a>"
      ]
    },
    {
      "cell_type": "markdown",
      "source": [
        "Install some packages and import them"
      ],
      "metadata": {
        "id": "EsPF0lpuXo97"
      }
    },
    {
      "cell_type": "code",
      "source": [
        "pip install astroquery"
      ],
      "metadata": {
        "id": "QB_r1xjgHL9K"
      },
      "execution_count": null,
      "outputs": []
    },
    {
      "cell_type": "code",
      "source": [
        "!wget http://kcor.sai.msu.ru/calc_kcor.py"
      ],
      "metadata": {
        "id": "HmGw7iZhP4mx"
      },
      "execution_count": null,
      "outputs": []
    },
    {
      "cell_type": "code",
      "execution_count": null,
      "metadata": {
        "id": "f_K7tZ-yHIye"
      },
      "outputs": [],
      "source": [
        "import matplotlib as mpl\n",
        "import matplotlib.pyplot as plt\n",
        "import numpy as np\n",
        "from astropy.coordinates import SkyCoord, Distance\n",
        "import astropy.coordinates as coord\n",
        "from astropy import units as u\n",
        "from astropy.cosmology import WMAP7\n",
        "from astroquery.sdss import SDSS\n",
        "import calc_kcor\n",
        "\n",
        "# look for availabe tables and columns in\n",
        "# http://skyserver.sdss.org/dr12/en/help/browser/browser.aspx \n",
        "\n",
        "#pos = coords.SkyCoord('0h8m05.63s +14d50m23.3s', frame='icrs')\n",
        "#print(pos.ra.deg, pos.dec.deg)\n",
        "\n",
        "query = \" SELECT TOP 100000 objID, ra ,dec, z, zerr, class, \\\n",
        "        cModelMag_r, cModelMag_g, extinction_r \\\n",
        "        FROM  SpecPhotoAll  WHERE (class = 'GALAXY') \\\n",
        "        AND z>0.001 AND z<0.2 AND ra>200 AND ra<230 AND dec>10 AND dec<40\"\n",
        "\n",
        "\n",
        "res = SDSS.query_sql(query)\n"
      ]
    },
    {
      "cell_type": "code",
      "source": [
        "np.shape(res['cModelMag_r'])"
      ],
      "metadata": {
        "id": "eANToNQLItSi"
      },
      "execution_count": null,
      "outputs": []
    },
    {
      "cell_type": "code",
      "source": [
        "res=res[res['cModelMag_r']>0] # clean data a little\n",
        "ra=res['ra']\n",
        "dec=res['dec']\n",
        "z=res['z']\n",
        "m_g=res['cModelMag_g']\n",
        "m_r=res['cModelMag_r']\n",
        "e_r=res['extinction_r']\n",
        "#m_i=res['cModelMag_i']\n",
        "#m_z=res['cModelMag_z']\n",
        "plt.scatter(ra,dec,alpha=0.2,s=0.5)\n"
      ],
      "metadata": {
        "id": "ItNO47Thji9Q"
      },
      "execution_count": null,
      "outputs": []
    },
    {
      "cell_type": "code",
      "source": [
        "#compute K-correctio\n",
        "kcorr=calc_kcor.calc_kcor('r', z, 'g - r', m_g-m_r)"
      ],
      "metadata": {
        "id": "tk-IG0D5P-xS"
      },
      "execution_count": null,
      "outputs": []
    },
    {
      "cell_type": "code",
      "source": [
        "# compute distance (in Mpc)\n",
        "\n",
        "d=\n",
        "\n",
        "# Absolute magnitude including extinction and K-correction\n",
        "M_r="
      ],
      "metadata": {
        "id": "aSvZytHSF9iG"
      },
      "execution_count": null,
      "outputs": []
    },
    {
      "cell_type": "code",
      "source": [
        "# decide on volume limited sample cuts for z=0.1\n",
        "plt.scatter(z,M_r,s=0.5)\n",
        "plt.ylim([-10,-27])\n"
      ],
      "metadata": {
        "id": "-qMoOxKovU_G"
      },
      "execution_count": null,
      "outputs": []
    },
    {
      "cell_type": "code",
      "source": [
        "# make histogram of galaxies as a funciton of magnitude\n",
        "# plot errorbar (assume possionian)"
      ],
      "metadata": {
        "id": "WJ4WeTQCIA6j"
      },
      "execution_count": null,
      "outputs": []
    },
    {
      "cell_type": "code",
      "source": [
        "# fit a Schechter function : determine 3 free parameters\n",
        "# plot best fit to data and errorbars"
      ],
      "metadata": {
        "id": "EaP1JTwpxmhk"
      },
      "execution_count": null,
      "outputs": []
    },
    {
      "cell_type": "code",
      "source": [
        "# decide on volume limited sample cuts for z=0.05\n",
        "# remake the above plot\n",
        "# how does alpha, Mstar change"
      ],
      "metadata": {
        "id": "WWcZdbTlAnSR"
      },
      "execution_count": null,
      "outputs": []
    },
    {
      "cell_type": "code",
      "source": [],
      "metadata": {
        "id": "xy0FKA2rDTu-"
      },
      "execution_count": null,
      "outputs": []
    },
    {
      "cell_type": "code",
      "source": [],
      "metadata": {
        "id": "4RnmnaQ2CANc"
      },
      "execution_count": null,
      "outputs": []
    },
    {
      "cell_type": "code",
      "source": [],
      "metadata": {
        "id": "qmkXBkKKPK0n"
      },
      "execution_count": null,
      "outputs": []
    },
    {
      "cell_type": "code",
      "source": [],
      "metadata": {
        "id": "73UdBrzSPOkg"
      },
      "execution_count": null,
      "outputs": []
    },
    {
      "cell_type": "code",
      "source": [],
      "metadata": {
        "id": "QQoPxOI3Pb3x"
      },
      "execution_count": null,
      "outputs": []
    },
    {
      "cell_type": "code",
      "source": [],
      "metadata": {
        "id": "sLu0KmX0P0ig"
      },
      "execution_count": null,
      "outputs": []
    }
  ]
}