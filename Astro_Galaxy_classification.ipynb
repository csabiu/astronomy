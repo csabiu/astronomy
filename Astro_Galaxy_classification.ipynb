{
  "nbformat": 4,
  "nbformat_minor": 0,
  "metadata": {
    "colab": {
      "name": "Untitled0.ipynb",
      "provenance": [],
      "include_colab_link": true
    },
    "kernelspec": {
      "name": "python3",
      "display_name": "Python 3"
    }
  },
  "cells": [
    {
      "cell_type": "markdown",
      "metadata": {
        "id": "view-in-github",
        "colab_type": "text"
      },
      "source": [
        "<a href=\"https://colab.research.google.com/github/csabiu/astronomy/blob/main/Astro_Galaxy_classification.ipynb\" target=\"_parent\"><img src=\"https://colab.research.google.com/assets/colab-badge.svg\" alt=\"Open In Colab\"/></a>"
      ]
    },
    {
      "cell_type": "markdown",
      "metadata": {
        "id": "yG_dgosvNAVY"
      },
      "source": [
        "# Import the necessary packages\n",
        "\n"
      ]
    },
    {
      "cell_type": "code",
      "metadata": {
        "id": "EISEU0Zp74tP"
      },
      "source": [
        "# TensorFlow and tf.keras\n",
        "import tensorflow as tf\n",
        "from tensorflow import keras\n",
        "\n",
        "# Helper libraries\n",
        "import numpy as np\n",
        "import matplotlib.pyplot as plt\n",
        "from PIL import Image\n",
        "import os\n",
        "\n",
        "print(tf.__version__)"
      ],
      "execution_count": null,
      "outputs": []
    },
    {
      "cell_type": "markdown",
      "metadata": {
        "id": "flhXCY54TZt-"
      },
      "source": [
        "#Download data sample"
      ]
    },
    {
      "cell_type": "code",
      "metadata": {
        "id": "UbUK4jz275ZE"
      },
      "source": [
        "!wget -q https://github.com/csabiu/ML_tutorial/blob/master/class.tar.gz.parta{a,b,c,d,e,f,g,h,i}?raw=true > tmp\n",
        "!cat class.tar.gz.parta*true > class.tar.gz\n",
        "!gunzip class.tar.gz\n",
        "!tar -xvf class.tar > tmp\n",
        "!rm class.tar*\n",
        "!rm tmp\n",
        "!ls"
      ],
      "execution_count": null,
      "outputs": []
    },
    {
      "cell_type": "markdown",
      "metadata": {
        "id": "4rDlAX4DYVIb"
      },
      "source": [
        "## Lets look at an image\n",
        "\n"
      ]
    },
    {
      "cell_type": "code",
      "metadata": {
        "id": "PfJ_dVUq7_VL"
      },
      "source": [
        "jpgfile = Image. open(\"class/100134.jpg\")\n",
        "plt.imshow(jpgfile)\n",
        "print(np.shape(jpgfile))\n"
      ],
      "execution_count": null,
      "outputs": []
    },
    {
      "cell_type": "markdown",
      "metadata": {
        "id": "DDBKAMY6mWVa"
      },
      "source": [
        "# Lets crop it"
      ]
    },
    {
      "cell_type": "code",
      "metadata": {
        "id": "TT5KsvVuCfwg"
      },
      "source": [
        "plt.imshow(jpgfile.crop((112,112,312,312)))"
      ],
      "execution_count": null,
      "outputs": []
    },
    {
      "cell_type": "markdown",
      "metadata": {
        "id": "Lpk7x_HPmfJB"
      },
      "source": [
        "# And lower the resolution"
      ]
    },
    {
      "cell_type": "code",
      "metadata": {
        "id": "CgTBf8OACg6e"
      },
      "source": [
        "plt.imshow(jpgfile.crop((112,112,312,312)).resize((30,30),Image.ANTIALIAS))"
      ],
      "execution_count": null,
      "outputs": []
    },
    {
      "cell_type": "markdown",
      "metadata": {
        "id": "wU08p38fDENp"
      },
      "source": [
        "# Split into RGB colors"
      ]
    },
    {
      "cell_type": "code",
      "metadata": {
        "id": "vt6vCgSgCrQx"
      },
      "source": [
        "r,g,b=jpgfile.split()\n",
        "plt.imshow(r.crop((112,112,312,312)).resize((30,30),Image.ANTIALIAS))\n",
        "plt.colorbar()"
      ],
      "execution_count": null,
      "outputs": []
    },
    {
      "cell_type": "markdown",
      "metadata": {
        "id": "jvA3-1_IDRGY"
      },
      "source": [
        "# Normalise the pixel values to (0,1)"
      ]
    },
    {
      "cell_type": "code",
      "metadata": {
        "id": "J0tNQQC5Dd0o"
      },
      "source": [
        "im=np.zeros((30,30))\n",
        "im[:,:]=r.crop((112,112,312,312)).resize((30,30),Image.ANTIALIAS)\n",
        "im=im/255.\n",
        "plt.imshow(im)\n",
        "plt.colorbar()"
      ],
      "execution_count": null,
      "outputs": []
    },
    {
      "cell_type": "markdown",
      "metadata": {
        "id": "bywkS7ztkG6Y"
      },
      "source": [
        "# Load the labels (truth) data"
      ]
    },
    {
      "cell_type": "markdown",
      "metadata": {
        "id": "3Tz5S6kum7dF"
      },
      "source": [
        "(Image ID, galaxy type) - 0=smooth, 1=featured"
      ]
    },
    {
      "cell_type": "code",
      "metadata": {
        "id": "e-WsMsNtkSc0"
      },
      "source": [
        "data=np.loadtxt(\"class/truth.txt\",dtype='i')\n",
        "print(np.shape(data))\n",
        "labels=data[:,1]\n",
        "\n",
        "print(data[1:10,:]) # print first 10 entries"
      ],
      "execution_count": null,
      "outputs": []
    },
    {
      "cell_type": "markdown",
      "metadata": {
        "id": "dqfh_2jSiJZ_"
      },
      "source": [
        "# Lets transform all the images and save into an array"
      ]
    },
    {
      "cell_type": "code",
      "metadata": {
        "id": "UqB7qRK2If7r"
      },
      "source": [
        "images=np.zeros((16885,30,30,3))\n",
        "nn=0\n",
        "\n",
        "for i in (data[:,0]):\n",
        "  filename=str(int(i))+\".jpg\"\n",
        "  jpgfile = Image. open(\"./class/\"+filename)  \n",
        "  images[nn,:,:,:]=jpgfile.crop((112,112,312,312)).resize((30,30),Image.ANTIALIAS)\n",
        "  nn=nn+1\n",
        "\n",
        "images=images/255.\n",
        "print(np.shape(images))"
      ],
      "execution_count": null,
      "outputs": []
    },
    {
      "cell_type": "markdown",
      "metadata": {
        "id": "Zithpd4doa6E"
      },
      "source": [
        "# Split images and labels into training and test data"
      ]
    },
    {
      "cell_type": "code",
      "metadata": {
        "id": "EFNJza2WRjrO"
      },
      "source": [
        "from sklearn.model_selection import train_test_split\n",
        "\n",
        "images=images.mean(axis=3)            # average colour -> greyscale (dont want color info - only morphology!)\n",
        "images=np.expand_dims(images, axis=3) # expand dimensions for tensorflow later (not important)\n",
        "\n",
        "train_data, test_data, train_label, test_label = train_test_split(images, labels, test_size=0.1, random_state=42)\n",
        " \n",
        "print(np.shape(train_data))\n",
        "print(np.shape(train_label))\n",
        "print(np.shape(test_data))\n",
        "print(np.shape(test_label))"
      ],
      "execution_count": null,
      "outputs": []
    },
    {
      "cell_type": "code",
      "metadata": {
        "id": "3C2OtmvCSIzL"
      },
      "source": [
        "class_names = ['Smooth', 'Features']\n",
        "plt.figure(figsize=(10,10))\n",
        "for i in range(25):\n",
        "    plt.subplot(5,5,i+1)\n",
        "    plt.xticks([])\n",
        "    plt.yticks([])\n",
        "    plt.grid(False)\n",
        "    plt.imshow(train_data[i], cmap=plt.cm.binary)\n",
        "    plt.xlabel(class_names[int(train_label[i])])\n",
        "plt.show()"
      ],
      "execution_count": null,
      "outputs": []
    },
    {
      "cell_type": "markdown",
      "metadata": {
        "id": "omY4d8QsLqvw"
      },
      "source": [
        "# Define a simple neural network"
      ]
    },
    {
      "cell_type": "code",
      "metadata": {
        "id": "XDV4GoCNLuC0"
      },
      "source": [
        "from keras.utils.vis_utils import plot_model\n",
        "keras.backend.clear_session()\n",
        "model = keras.Sequential([\n",
        "    keras.layers.Flatten(input_shape=(30, 30)),\n",
        "    keras.layers.Dense(128, activation=tf.nn.sigmoid),\n",
        "    keras.layers.Dense(128, activation=tf.nn.sigmoid),\n",
        "    keras.layers.Dense(64, activation=tf.nn.sigmoid),    \n",
        "    keras.layers.Dense(2, activation=tf.nn.softmax)])\n",
        "model.summary()\n",
        "\n",
        "model.compile(optimizer='adam',\n",
        "              loss='sparse_categorical_crossentropy',\n",
        "              metrics=['accuracy'])"
      ],
      "execution_count": null,
      "outputs": []
    },
    {
      "cell_type": "code",
      "metadata": {
        "id": "ysjpGl0rL8Pq"
      },
      "source": [
        "model.fit(train_data, train_label, epochs=7)"
      ],
      "execution_count": null,
      "outputs": []
    },
    {
      "cell_type": "code",
      "metadata": {
        "id": "vFa8zm3bMfJE"
      },
      "source": [
        "test_loss, test_acc = model.evaluate(test_data, test_label)\n",
        "print('Test accuracy:', test_acc)"
      ],
      "execution_count": null,
      "outputs": []
    },
    {
      "cell_type": "markdown",
      "metadata": {
        "id": "5lrb6f-WfyR5"
      },
      "source": [
        "Set up some of plotting functions"
      ]
    },
    {
      "cell_type": "code",
      "metadata": {
        "id": "gTF80GvYTgX7"
      },
      "source": [
        "def plot_image(i, predictions_array, true_label, img):\n",
        "  predictions_array, true_label, img = predictions_array[i], true_label[i], img[i]\n",
        "  plt.grid(False)\n",
        "  plt.xticks([])\n",
        "  plt.yticks([])\n",
        "  \n",
        "  plt.imshow(img[:,:,0], cmap=plt.cm.binary)\n",
        "  \n",
        "  predicted_label = np.argmax(predictions_array)\n",
        "  if predicted_label == true_label:\n",
        "    color = 'blue'\n",
        "  else:\n",
        "    color = 'red'\n",
        "  \n",
        "  plt.xlabel(\"{} {:2.0f}% ({})\".format(class_names[predicted_label],\n",
        "                                100*np.max(predictions_array),\n",
        "                                class_names[int(true_label)]),\n",
        "                                color=color)\n",
        "\n",
        "def plot_value_array(i, predictions_array, true_label):\n",
        "  predictions_array, true_label = predictions_array[i], true_label[i]\n",
        "  plt.grid(False)\n",
        "  plt.xticks([0,1])\n",
        "  plt.yticks([])\n",
        "  thisplot = plt.bar(range(2), predictions_array, color=\"#777777\")\n",
        "  plt.ylim([0, 1])\n",
        "  #f, axarr = plt.subplots(2, sharex=True)\n",
        "  #axarr[0].set_xticklabels(['smooth', 'features'])\n",
        "  predicted_label = np.argmax(predictions_array)\n",
        "  \n",
        "  thisplot[predicted_label].set_color('red')\n",
        "  thisplot[true_label].set_color('blue')"
      ],
      "execution_count": null,
      "outputs": []
    },
    {
      "cell_type": "markdown",
      "metadata": {
        "id": "kvb2IYPrgenO"
      },
      "source": [
        "# Make predictions on test data from the trained model"
      ]
    },
    {
      "cell_type": "code",
      "metadata": {
        "id": "FRjm5bbRgjib"
      },
      "source": [
        "predictions = (model.predict(test_data))\n",
        "\n",
        "print(\"First 10 galaxies\")\n",
        "print(\"Predicted:\",np.argmax(predictions[1:11],axis=1))\n",
        "print(\"Truth:    \",np.int_(test_label[1:11]))"
      ],
      "execution_count": null,
      "outputs": []
    },
    {
      "cell_type": "markdown",
      "metadata": {
        "id": "rLvcJC0fhsVl"
      },
      "source": [
        "# Lets visialise these classifications"
      ]
    },
    {
      "cell_type": "code",
      "metadata": {
        "id": "Jt1DDbunTiLW"
      },
      "source": [
        "i = 4\n",
        "plt.figure(figsize=(6,3))\n",
        "plt.subplot(1,2,1)\n",
        "plot_image(i, predictions, np.int_(test_label), test_data)\n",
        "f=plt.subplot(1,2,2)\n",
        "plot_value_array(i, predictions,  np.int_(test_label))\n",
        "f.axes.set_xticklabels([\"smooth\",\"features\"])\n",
        "plt.show()"
      ],
      "execution_count": null,
      "outputs": []
    },
    {
      "cell_type": "markdown",
      "metadata": {
        "id": "W8jFdlIEfobw"
      },
      "source": [
        " Plot the first X test images, their predicted label, and the true label\n",
        " Color correct predictions in blue, incorrect predictions in red"
      ]
    },
    {
      "cell_type": "code",
      "metadata": {
        "id": "OxgmHQyufSEW"
      },
      "source": [
        "num_rows = 5\n",
        "num_cols = 3\n",
        "num_images = num_rows*num_cols\n",
        "plt.figure(figsize=(2*2*num_cols, 2*num_rows))\n",
        "for i in range(num_images):\n",
        "  plt.subplot(num_rows, 2*num_cols, 2*i+1)\n",
        "  plot_image(i, predictions, np.int_(test_label), test_data)\n",
        "  f=plt.subplot(num_rows, 2*num_cols, 2*i+2)\n",
        "  f.axes.set_xticklabels([\"smooth\",\"features\"])\n",
        "  plot_value_array(i, predictions, np.int_(test_label))\n",
        "plt.show()\n"
      ],
      "execution_count": null,
      "outputs": []
    },
    {
      "cell_type": "markdown",
      "metadata": {
        "id": "XQHgqPjVKUnS"
      },
      "source": [
        "# Define a new convolutional neural network model"
      ]
    },
    {
      "cell_type": "code",
      "metadata": {
        "id": "tnNJKkhuRoeW"
      },
      "source": [
        "keras.backend.clear_session()\n",
        "model = keras.Sequential()\n",
        "model.add(keras.layers.Conv2D(32, (3, 3), activation='relu', input_shape=(30, 30,1)))\n",
        "model.add(keras.layers.MaxPooling2D((2, 2)))\n",
        "model.add(keras.layers.Conv2D(64, (3, 3), activation='relu'))\n",
        "model.add(keras.layers.MaxPooling2D((2, 2)))\n",
        "model.add(keras.layers.Conv2D(64, (3, 3), activation='relu'))\n",
        "model.add(keras.layers.MaxPooling2D((2, 2)))\n",
        "model.add(keras.layers.Flatten())\n",
        "model.add(keras.layers.Dense(64, activation='relu'))\n",
        "model.add(keras.layers.Dense(2, activation='softmax'))\n",
        "model.summary()\n",
        "\n",
        "model.compile(optimizer='adam',\n",
        "              loss='sparse_categorical_crossentropy',\n",
        "              metrics=['accuracy'])"
      ],
      "execution_count": null,
      "outputs": []
    },
    {
      "cell_type": "markdown",
      "metadata": {
        "id": "3FjkMvGOKe1_"
      },
      "source": [
        "# Train the model on the training data"
      ]
    },
    {
      "cell_type": "code",
      "metadata": {
        "id": "5938YM77pKdc"
      },
      "source": [
        "model.fit(train_data, train_label, epochs=5)"
      ],
      "execution_count": null,
      "outputs": []
    },
    {
      "cell_type": "markdown",
      "metadata": {
        "id": "-Fgg-xJ03_SA"
      },
      "source": [
        "# Now make prediction and visualise \n",
        "# Compare to previous plot"
      ]
    },
    {
      "cell_type": "code",
      "metadata": {
        "id": "7jgRTlDK4EbC"
      },
      "source": [
        "predictions = model.predict(test_data)\n",
        "\n",
        "num_rows = 5\n",
        "num_cols = 3\n",
        "num_images = num_rows*num_cols\n",
        "plt.figure(figsize=(2*2*num_cols, 2*num_rows))\n",
        "for i in range(num_images):\n",
        "  plt.subplot(num_rows, 2*num_cols, 2*i+1)\n",
        "  plot_image(i, predictions, np.int_(test_label), test_data)\n",
        "  f=plt.subplot(num_rows, 2*num_cols, 2*i+2)\n",
        "  f.axes.set_xticklabels([\"smooth\",\"features\"])\n",
        "  plot_value_array(i, predictions, np.int_(test_label))\n",
        "plt.show()"
      ],
      "execution_count": null,
      "outputs": []
    },
    {
      "cell_type": "markdown",
      "metadata": {
        "id": "Ej4rGbVp362K"
      },
      "source": [
        "# Now add some data augmentations"
      ]
    },
    {
      "cell_type": "code",
      "metadata": {
        "id": "jzNG7nVDzcgQ"
      },
      "source": [
        "from keras.preprocessing.image import ImageDataGenerator\n",
        "datagen = ImageDataGenerator(width_shift_range=.2, \n",
        "                             height_shift_range=.2,\n",
        "                             horizontal_flip=True,\n",
        "                             vertical_flip=True,\n",
        "                             rotation_range=90,\n",
        "fill_mode='nearest')\n",
        "datagen.fit(train_data)\n",
        "\n",
        "history = model.fit_generator(datagen.flow(train_data, train_label, batch_size=30),\n",
        "                        steps_per_epoch=train_data.shape[0] // 30,\n",
        "                        epochs=5,\n",
        "validation_data=(test_data, test_label))"
      ],
      "execution_count": null,
      "outputs": []
    },
    {
      "cell_type": "markdown",
      "metadata": {
        "id": "Rg-v3v-PKjDg"
      },
      "source": [
        "# Test the trained model on the test data"
      ]
    },
    {
      "cell_type": "code",
      "metadata": {
        "id": "68XyIpD7pNId"
      },
      "source": [
        "test_loss, test_acc = model.evaluate(test_data, test_label)\n",
        "print('Test accuracy:', test_acc)"
      ],
      "execution_count": null,
      "outputs": []
    },
    {
      "cell_type": "markdown",
      "metadata": {
        "id": "XjsAWOklDUE3"
      },
      "source": [
        "# Now make prediction and visualise \n",
        "# Compare to previous plot"
      ]
    },
    {
      "cell_type": "code",
      "metadata": {
        "id": "jhiK5vQQBueS"
      },
      "source": [
        "predictions = model.predict(test_data)\n",
        "\n",
        "num_rows = 5\n",
        "num_cols = 3\n",
        "num_images = num_rows*num_cols\n",
        "plt.figure(figsize=(2*2*num_cols, 2*num_rows))\n",
        "for i in range(num_images):\n",
        "  plt.subplot(num_rows, 2*num_cols, 2*i+1)\n",
        "  plot_image(i, predictions, np.int_(test_label), test_data)\n",
        "  f=plt.subplot(num_rows, 2*num_cols, 2*i+2)\n",
        "  f.axes.set_xticklabels([\"smooth\",\"features\"])\n",
        "  plot_value_array(i, predictions, np.int_(test_label))\n",
        "plt.show()"
      ],
      "execution_count": null,
      "outputs": []
    },
    {
      "cell_type": "code",
      "metadata": {
        "id": "ajzAci0GC5_O"
      },
      "source": [],
      "execution_count": null,
      "outputs": []
    }
  ]
}