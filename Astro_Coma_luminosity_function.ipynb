{
  "nbformat": 4,
  "nbformat_minor": 0,
  "metadata": {
    "colab": {
      "provenance": [],
      "collapsed_sections": [],
      "include_colab_link": true
    },
    "kernelspec": {
      "name": "python3",
      "display_name": "Python 3"
    },
    "language_info": {
      "name": "python"
    }
  },
  "cells": [
    {
      "cell_type": "markdown",
      "metadata": {
        "id": "view-in-github",
        "colab_type": "text"
      },
      "source": [
        "<a href=\"https://colab.research.google.com/github/csabiu/astronomy/blob/main/Astro_Coma_luminosity_function.ipynb\" target=\"_parent\"><img src=\"https://colab.research.google.com/assets/colab-badge.svg\" alt=\"Open In Colab\"/></a>"
      ]
    },
    {
      "cell_type": "markdown",
      "source": [
        "Install some packages and import them"
      ],
      "metadata": {
        "id": "EsPF0lpuXo97"
      }
    },
    {
      "cell_type": "code",
      "source": [
        "pip install astroquery"
      ],
      "metadata": {
        "id": "QB_r1xjgHL9K"
      },
      "execution_count": null,
      "outputs": []
    },
    {
      "cell_type": "code",
      "source": [
        "import matplotlib as mpl\n",
        "import matplotlib.pyplot as plt\n",
        "import numpy as np\n",
        "from astropy.coordinates import SkyCoord, Distance\n",
        "import astropy.coordinates as coord\n",
        "from astropy import units as u\n",
        "from astropy.cosmology import WMAP7, Planck13\n",
        "from astroquery.sdss import SDSS\n"
      ],
      "metadata": {
        "id": "QWgz_zYSoITA"
      },
      "execution_count": null,
      "outputs": []
    },
    {
      "cell_type": "code",
      "source": [
        "# Coma Cluster centre RA: 12h 59m 35.71s dec: +27deg 57m 33.8s\n",
        "# Convert to degrees...\n",
        "\n"
      ],
      "metadata": {
        "id": "LtiJ1SmP64Bb"
      },
      "execution_count": null,
      "outputs": []
    },
    {
      "cell_type": "code",
      "source": [
        "# This is a sample query of the SDSS database\n",
        "# It uses a function \"fGetNearbyObjEq\" to retrieve objects near a specified point \n",
        "# fGetNearbyObjEq(RA, DEC, radius) where RA,DEC are in degrees and the search radius is in arcmins\n",
        "# Cut out 50 arcmin around Coma cluster centre replace (X,Y,Z)\n",
        "# What information do you need from the database to complete the task?\n",
        "# replace \"something\" and \"something2\" appropriatley\n",
        "\n",
        "query = \"SELECT G.objID, GN.distance, G.something, G.something2, G.something3.... \\\n",
        "          FROM PhotoObjAll as G  \\\n",
        "          JOIN dbo.fGetNearbyObjEq(X,Y,Z) AS GN \\\n",
        "          ON G.objID = GN.objID \\\n",
        "          WHERE (G.type = 3)\"\n",
        "\n",
        "res = SDSS.query_sql(query)"
      ],
      "metadata": {
        "id": "GnjTp9uEFrb3"
      },
      "execution_count": null,
      "outputs": []
    },
    {
      "cell_type": "code",
      "source": [
        "# cut out objects with fainter magnitide than SDSS limit (m_r~17.8)\n",
        "res"
      ],
      "metadata": {
        "id": "oiy65Pka4DXg"
      },
      "execution_count": null,
      "outputs": []
    },
    {
      "cell_type": "code",
      "source": [
        "# extract quantities from res\n"
      ],
      "metadata": {
        "id": "Sltn2qVZ4Eu_"
      },
      "execution_count": null,
      "outputs": []
    },
    {
      "cell_type": "code",
      "source": [
        "# Plot the RA, Dec scatter of the objects\n"
      ],
      "metadata": {
        "id": "fJpaFoBm7g91"
      },
      "execution_count": null,
      "outputs": []
    },
    {
      "cell_type": "code",
      "source": [
        "# compute Absolute magnitude using distance to Coma as 100Mpc\n",
        "M_r="
      ],
      "metadata": {
        "id": "HYzaY3ty7jVb"
      },
      "execution_count": null,
      "outputs": []
    },
    {
      "cell_type": "code",
      "source": [
        "# Compute 2 LF functions for galaxies 1) inside 10arcmins 2) outside 10arcmins  from Coma centre\n",
        "# Plot both together and comment on the differences\n",
        "# Plot errorbars assuming poisson error\n"
      ],
      "metadata": {
        "id": "8iumgYdJ8nMw"
      },
      "execution_count": null,
      "outputs": []
    },
    {
      "cell_type": "code",
      "source": [],
      "metadata": {
        "id": "DVzZusRM8tFR"
      },
      "execution_count": null,
      "outputs": []
    }
  ]
}