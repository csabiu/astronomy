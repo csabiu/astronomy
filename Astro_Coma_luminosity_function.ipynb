{
  "nbformat": 4,
  "nbformat_minor": 0,
  "metadata": {
    "colab": {
      "provenance": [],
      "collapsed_sections": [],
      "include_colab_link": true
    },
    "kernelspec": {
      "name": "python3",
      "display_name": "Python 3"
    },
    "language_info": {
      "name": "python"
    }
  },
  "cells": [
    {
      "cell_type": "markdown",
      "metadata": {
        "id": "view-in-github",
        "colab_type": "text"
      },
      "source": [
        "<a href=\"https://colab.research.google.com/github/csabiu/astronomy/blob/main/Astro_Coma_luminosity_function.ipynb\" target=\"_parent\"><img src=\"https://colab.research.google.com/assets/colab-badge.svg\" alt=\"Open In Colab\"/></a>"
      ]
    },
    {
      "cell_type": "markdown",
      "source": [
        "Install some packages and import them"
      ],
      "metadata": {
        "id": "EsPF0lpuXo97"
      }
    },
    {
      "cell_type": "code",
      "source": [
        "pip install astroquery"
      ],
      "metadata": {
        "id": "QB_r1xjgHL9K",
        "colab": {
          "base_uri": "https://localhost:8080/"
        },
        "outputId": "bda3b906-46e6-4d2a-d56d-268be9a97df0"
      },
      "execution_count": 1,
      "outputs": [
        {
          "output_type": "stream",
          "name": "stdout",
          "text": [
            "Looking in indexes: https://pypi.org/simple, https://us-python.pkg.dev/colab-wheels/public/simple/\n",
            "Collecting astroquery\n",
            "  Downloading astroquery-0.4.6-py3-none-any.whl (4.5 MB)\n",
            "\u001b[K     |████████████████████████████████| 4.5 MB 5.3 MB/s \n",
            "\u001b[?25hRequirement already satisfied: html5lib>=0.999 in /usr/local/lib/python3.7/dist-packages (from astroquery) (1.0.1)\n",
            "Collecting pyvo>=1.1\n",
            "  Downloading pyvo-1.2.1-py3-none-any.whl (832 kB)\n",
            "\u001b[K     |████████████████████████████████| 832 kB 40.1 MB/s \n",
            "\u001b[?25hRequirement already satisfied: beautifulsoup4>=4.3.2 in /usr/local/lib/python3.7/dist-packages (from astroquery) (4.6.3)\n",
            "Requirement already satisfied: numpy>=1.16 in /usr/local/lib/python3.7/dist-packages (from astroquery) (1.21.6)\n",
            "Collecting keyring>=4.0\n",
            "  Downloading keyring-23.11.0-py3-none-any.whl (36 kB)\n",
            "Requirement already satisfied: requests>=2.4.3 in /usr/local/lib/python3.7/dist-packages (from astroquery) (2.23.0)\n",
            "Requirement already satisfied: astropy>=4.0 in /usr/local/lib/python3.7/dist-packages (from astroquery) (4.3.1)\n",
            "Requirement already satisfied: pyerfa>=1.7.3 in /usr/local/lib/python3.7/dist-packages (from astropy>=4.0->astroquery) (2.0.0.1)\n",
            "Requirement already satisfied: importlib-metadata in /usr/local/lib/python3.7/dist-packages (from astropy>=4.0->astroquery) (4.13.0)\n",
            "Requirement already satisfied: webencodings in /usr/local/lib/python3.7/dist-packages (from html5lib>=0.999->astroquery) (0.5.1)\n",
            "Requirement already satisfied: six>=1.9 in /usr/local/lib/python3.7/dist-packages (from html5lib>=0.999->astroquery) (1.15.0)\n",
            "Collecting jaraco.classes\n",
            "  Downloading jaraco.classes-3.2.3-py3-none-any.whl (6.0 kB)\n",
            "Collecting jeepney>=0.4.2\n",
            "  Downloading jeepney-0.8.0-py3-none-any.whl (48 kB)\n",
            "\u001b[K     |████████████████████████████████| 48 kB 4.7 MB/s \n",
            "\u001b[?25hCollecting SecretStorage>=3.2\n",
            "  Downloading SecretStorage-3.3.3-py3-none-any.whl (15 kB)\n",
            "Requirement already satisfied: zipp>=0.5 in /usr/local/lib/python3.7/dist-packages (from importlib-metadata->astropy>=4.0->astroquery) (3.10.0)\n",
            "Requirement already satisfied: typing-extensions>=3.6.4 in /usr/local/lib/python3.7/dist-packages (from importlib-metadata->astropy>=4.0->astroquery) (4.1.1)\n",
            "Requirement already satisfied: urllib3!=1.25.0,!=1.25.1,<1.26,>=1.21.1 in /usr/local/lib/python3.7/dist-packages (from requests>=2.4.3->astroquery) (1.24.3)\n",
            "Requirement already satisfied: certifi>=2017.4.17 in /usr/local/lib/python3.7/dist-packages (from requests>=2.4.3->astroquery) (2022.9.24)\n",
            "Requirement already satisfied: idna<3,>=2.5 in /usr/local/lib/python3.7/dist-packages (from requests>=2.4.3->astroquery) (2.10)\n",
            "Requirement already satisfied: chardet<4,>=3.0.2 in /usr/local/lib/python3.7/dist-packages (from requests>=2.4.3->astroquery) (3.0.4)\n",
            "Collecting cryptography>=2.0\n",
            "  Downloading cryptography-38.0.3-cp36-abi3-manylinux_2_24_x86_64.whl (4.1 MB)\n",
            "\u001b[K     |████████████████████████████████| 4.1 MB 24.6 MB/s \n",
            "\u001b[?25hRequirement already satisfied: cffi>=1.12 in /usr/local/lib/python3.7/dist-packages (from cryptography>=2.0->SecretStorage>=3.2->keyring>=4.0->astroquery) (1.15.1)\n",
            "Requirement already satisfied: pycparser in /usr/local/lib/python3.7/dist-packages (from cffi>=1.12->cryptography>=2.0->SecretStorage>=3.2->keyring>=4.0->astroquery) (2.21)\n",
            "Requirement already satisfied: more-itertools in /usr/local/lib/python3.7/dist-packages (from jaraco.classes->keyring>=4.0->astroquery) (9.0.0)\n",
            "Installing collected packages: jeepney, cryptography, SecretStorage, jaraco.classes, pyvo, keyring, astroquery\n",
            "Successfully installed SecretStorage-3.3.3 astroquery-0.4.6 cryptography-38.0.3 jaraco.classes-3.2.3 jeepney-0.8.0 keyring-23.11.0 pyvo-1.2.1\n"
          ]
        }
      ]
    },
    {
      "cell_type": "code",
      "source": [
        "import matplotlib as mpl\n",
        "import matplotlib.pyplot as plt\n",
        "import numpy as np\n",
        "from astropy.coordinates import SkyCoord, Distance\n",
        "import astropy.coordinates as coord\n",
        "from astropy import units as u\n",
        "from astropy.cosmology import WMAP7, Planck13\n",
        "from astroquery.sdss import SDSS\n"
      ],
      "metadata": {
        "id": "QWgz_zYSoITA"
      },
      "execution_count": 2,
      "outputs": []
    },
    {
      "cell_type": "code",
      "source": [
        "# Coma Cluster centre RA: 12h 59m 35.71s dec: +27deg 57m 33.8s\n",
        "# Convert to degrees...\n",
        "pos = SkyCoord('12h59m35.709s +27d57m33.8s', frame='icrs')\n",
        "print(pos.ra.deg, pos.dec.deg)"
      ],
      "metadata": {
        "colab": {
          "base_uri": "https://localhost:8080/"
        },
        "id": "LtiJ1SmP64Bb",
        "outputId": "543c3f10-c1ef-4734-897a-7b06e88e792f"
      },
      "execution_count": 3,
      "outputs": [
        {
          "output_type": "stream",
          "name": "stdout",
          "text": [
            "194.89878749999997 27.95938888888889\n"
          ]
        }
      ]
    },
    {
      "cell_type": "code",
      "source": [
        "# This is a sample query of the SDSS database\n",
        "# It uses a function \"fGetNearbyObjEq\" to retrieve objects near a specified point \n",
        "# fGetNearbyObjEq(RA, DEC, radius) where RA,DEC are in degrees and the search radius is in arcmins\n",
        "# Cut out 50 arcmin around Coma cluster centre replace (X,Y,Z)\n",
        "# What information do you need from the database to complete the task?\n",
        "# replace \"something\" and \"something2\" appropriatley\n",
        "query = \"SELECT G.objID, GN.distance, G.ra, G.dec, G.cModelMag_r \\\n",
        "          FROM PhotoObjAll as G  \\\n",
        "          JOIN dbo.fGetNearbyObjEq(194.898,27.9593, 50.) AS GN \\\n",
        "          ON G.objID = GN.objID \\\n",
        "          WHERE (G.type = 3)\"\n",
        "\n",
        "res = SDSS.query_sql(query)"
      ],
      "metadata": {
        "id": "GnjTp9uEFrb3"
      },
      "execution_count": 13,
      "outputs": []
    },
    {
      "cell_type": "code",
      "source": [
        "# cut out objects with fainter magnitide than SDSS limit (m_r~17.8)\n",
        "res=res[res['cModelMag_r']<17.8]"
      ],
      "metadata": {
        "id": "oiy65Pka4DXg"
      },
      "execution_count": 14,
      "outputs": []
    },
    {
      "cell_type": "code",
      "source": [
        "# extract quantities from res\n",
        "ra=res['ra']\n",
        "dec=res['dec']\n",
        "m_r=res['cModelMag_r']\n",
        "d=res['distance']"
      ],
      "metadata": {
        "id": "Sltn2qVZ4Eu_"
      },
      "execution_count": 15,
      "outputs": []
    },
    {
      "cell_type": "code",
      "source": [
        "# Plot the RA, Dec scatter of the objects\n",
        "plt.scatter(ra,dec,s=0.4,alpha=1)\n",
        "plt.xlabel('RA')\n",
        "plt.ylabel('dec')"
      ],
      "metadata": {
        "colab": {
          "base_uri": "https://localhost:8080/",
          "height": 297
        },
        "id": "fJpaFoBm7g91",
        "outputId": "030ebfa6-6264-446f-ed30-56e55e9d4d44"
      },
      "execution_count": 16,
      "outputs": [
        {
          "output_type": "execute_result",
          "data": {
            "text/plain": [
              "Text(0, 0.5, 'dec')"
            ]
          },
          "metadata": {},
          "execution_count": 16
        },
        {
          "output_type": "display_data",
          "data": {
            "text/plain": [
              "<Figure size 432x288 with 1 Axes>"
            ],
            "image/png": "[encoded data removed]"
          },
          "metadata": {
            "needs_background": "light"
          }
        }
      ]
    },
    {
      "cell_type": "code",
      "source": [
        "# compute Absolute magnitude without redshift ie all galaxies have ~same distance - using distance to Coma as 100Mpc\n",
        "M_r=m_r-5*np.log10(100)-25.0"
      ],
      "metadata": {
        "id": "HYzaY3ty7jVb"
      },
      "execution_count": 17,
      "outputs": []
    },
    {
      "cell_type": "code",
      "source": [
        "# Compute 2 LF functions for galaxies 1) inside 10arcmins 2) outside 10arcmins  from Coma centre\n",
        "# Plot both together and comment on the differences\n",
        "# Plot errorbars assuming poisson error\n",
        "\n",
        "\n",
        "a=plt.hist(M_r[d>10],range=[-24,-16.5],bins=13)\n",
        "b=plt.hist(M_r[d<10],range=[-24,-16.5],bins=13)\n",
        "plt.close()\n",
        "\n",
        "plt.errorbar(a[1][1:],a[0],yerr=np.sqrt(a[0]),color='b', linestyle=' ', marker='.',label='outer')\n",
        "plt.yscale('log')\n",
        "plt.errorbar(b[1][1:],b[0],yerr=np.sqrt(b[0]),color='r', linestyle=' ', marker='.',label='inner')\n",
        "plt.legend()\n",
        "plt.xlabel(r'$M_r$')\n",
        "plt.ylabel(r'$\\Phi(M)$')"
      ],
      "metadata": {
        "colab": {
          "base_uri": "https://localhost:8080/",
          "height": 301
        },
        "id": "8iumgYdJ8nMw",
        "outputId": "55c9fe18-4400-4e93-f8fd-c9a5370ba96b"
      },
      "execution_count": 29,
      "outputs": [
        {
          "output_type": "execute_result",
          "data": {
            "text/plain": [
              "Text(0, 0.5, '$\\\\Phi(M)$')"
            ]
          },
          "metadata": {},
          "execution_count": 29
        },
        {
          "output_type": "display_data",
          "data": {
            "text/plain": [
              "<Figure size 432x288 with 1 Axes>"
            ],
            "image/png": "[encoded data removed]"
          },
          "metadata": {
            "needs_background": "light"
          }
        }
      ]
    },
    {
      "cell_type": "code",
      "source": [],
      "metadata": {
        "id": "DVzZusRM8tFR"
      },
      "execution_count": null,
      "outputs": []
    }
  ]
}