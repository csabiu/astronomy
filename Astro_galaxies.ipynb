{
  "nbformat": 4,
  "nbformat_minor": 0,
  "metadata": {
    "colab": {
      "provenance": [],
      "collapsed_sections": [],
      "include_colab_link": true
    },
    "kernelspec": {
      "name": "python3",
      "display_name": "Python 3"
    },
    "language_info": {
      "name": "python"
    }
  },
  "cells": [
    {
      "cell_type": "markdown",
      "metadata": {
        "id": "view-in-github",
        "colab_type": "text"
      },
      "source": [
        "<a href=\"https://colab.research.google.com/github/csabiu/astronomy/blob/main/Astro_galaxies.ipynb\" target=\"_parent\"><img src=\"https://colab.research.google.com/assets/colab-badge.svg\" alt=\"Open In Colab\"/></a>"
      ]
    },
    {
      "cell_type": "markdown",
      "source": [
        "Install some packages and import them"
      ],
      "metadata": {
        "id": "EsPF0lpuXo97"
      }
    },
    {
      "cell_type": "code",
      "source": [
        "pip install astroquery"
      ],
      "metadata": {
        "id": "QB_r1xjgHL9K",
        "colab": {
          "base_uri": "https://localhost:8080/"
        },
        "outputId": "d568545f-d5a2-470f-85e4-3c34bd37d114"
      },
      "execution_count": 1,
      "outputs": [
        {
          "output_type": "stream",
          "name": "stdout",
          "text": [
            "Looking in indexes: https://pypi.org/simple, https://us-python.pkg.dev/colab-wheels/public/simple/\n",
            "Collecting astroquery\n",
            "  Downloading astroquery-0.4.6-py3-none-any.whl (4.5 MB)\n",
            "\u001b[K     |████████████████████████████████| 4.5 MB 14.6 MB/s \n",
            "\u001b[?25hRequirement already satisfied: beautifulsoup4>=4.3.2 in /usr/local/lib/python3.7/dist-packages (from astroquery) (4.6.3)\n",
            "Requirement already satisfied: requests>=2.4.3 in /usr/local/lib/python3.7/dist-packages (from astroquery) (2.23.0)\n",
            "Requirement already satisfied: numpy>=1.16 in /usr/local/lib/python3.7/dist-packages (from astroquery) (1.21.6)\n",
            "Collecting keyring>=4.0\n",
            "  Downloading keyring-23.9.3-py3-none-any.whl (35 kB)\n",
            "Collecting pyvo>=1.1\n",
            "  Downloading pyvo-1.2.1-py3-none-any.whl (832 kB)\n",
            "\u001b[K     |████████████████████████████████| 832 kB 87.0 MB/s \n",
            "\u001b[?25hRequirement already satisfied: html5lib>=0.999 in /usr/local/lib/python3.7/dist-packages (from astroquery) (1.0.1)\n",
            "Requirement already satisfied: astropy>=4.0 in /usr/local/lib/python3.7/dist-packages (from astroquery) (4.3.1)\n",
            "Requirement already satisfied: pyerfa>=1.7.3 in /usr/local/lib/python3.7/dist-packages (from astropy>=4.0->astroquery) (2.0.0.1)\n",
            "Requirement already satisfied: importlib-metadata in /usr/local/lib/python3.7/dist-packages (from astropy>=4.0->astroquery) (5.0.0)\n",
            "Requirement already satisfied: six>=1.9 in /usr/local/lib/python3.7/dist-packages (from html5lib>=0.999->astroquery) (1.15.0)\n",
            "Requirement already satisfied: webencodings in /usr/local/lib/python3.7/dist-packages (from html5lib>=0.999->astroquery) (0.5.1)\n",
            "Collecting SecretStorage>=3.2\n",
            "  Downloading SecretStorage-3.3.3-py3-none-any.whl (15 kB)\n",
            "Collecting jeepney>=0.4.2\n",
            "  Downloading jeepney-0.8.0-py3-none-any.whl (48 kB)\n",
            "\u001b[K     |████████████████████████████████| 48 kB 5.8 MB/s \n",
            "\u001b[?25hCollecting jaraco.classes\n",
            "  Downloading jaraco.classes-3.2.3-py3-none-any.whl (6.0 kB)\n",
            "Requirement already satisfied: typing-extensions>=3.6.4 in /usr/local/lib/python3.7/dist-packages (from importlib-metadata->astropy>=4.0->astroquery) (4.1.1)\n",
            "Requirement already satisfied: zipp>=0.5 in /usr/local/lib/python3.7/dist-packages (from importlib-metadata->astropy>=4.0->astroquery) (3.9.0)\n",
            "Requirement already satisfied: urllib3!=1.25.0,!=1.25.1,<1.26,>=1.21.1 in /usr/local/lib/python3.7/dist-packages (from requests>=2.4.3->astroquery) (1.24.3)\n",
            "Requirement already satisfied: certifi>=2017.4.17 in /usr/local/lib/python3.7/dist-packages (from requests>=2.4.3->astroquery) (2022.9.24)\n",
            "Requirement already satisfied: idna<3,>=2.5 in /usr/local/lib/python3.7/dist-packages (from requests>=2.4.3->astroquery) (2.10)\n",
            "Requirement already satisfied: chardet<4,>=3.0.2 in /usr/local/lib/python3.7/dist-packages (from requests>=2.4.3->astroquery) (3.0.4)\n",
            "Collecting cryptography>=2.0\n",
            "  Downloading cryptography-38.0.1-cp36-abi3-manylinux_2_24_x86_64.whl (4.0 MB)\n",
            "\u001b[K     |████████████████████████████████| 4.0 MB 66.2 MB/s \n",
            "\u001b[?25hRequirement already satisfied: cffi>=1.12 in /usr/local/lib/python3.7/dist-packages (from cryptography>=2.0->SecretStorage>=3.2->keyring>=4.0->astroquery) (1.15.1)\n",
            "Requirement already satisfied: pycparser in /usr/local/lib/python3.7/dist-packages (from cffi>=1.12->cryptography>=2.0->SecretStorage>=3.2->keyring>=4.0->astroquery) (2.21)\n",
            "Requirement already satisfied: more-itertools in /usr/local/lib/python3.7/dist-packages (from jaraco.classes->keyring>=4.0->astroquery) (8.14.0)\n",
            "Installing collected packages: jeepney, cryptography, SecretStorage, jaraco.classes, pyvo, keyring, astroquery\n",
            "Successfully installed SecretStorage-3.3.3 astroquery-0.4.6 cryptography-38.0.1 jaraco.classes-3.2.3 jeepney-0.8.0 keyring-23.9.3 pyvo-1.2.1\n"
          ]
        }
      ]
    },
    {
      "cell_type": "code",
      "execution_count": 80,
      "metadata": {
        "id": "f_K7tZ-yHIye",
        "colab": {
          "base_uri": "https://localhost:8080/"
        },
        "outputId": "20765058-a10d-4693-a2cb-cd920561a91c"
      },
      "outputs": [
        {
          "output_type": "stream",
          "name": "stdout",
          "text": [
            "2.023458333333333 14.839805555555555\n"
          ]
        },
        {
          "output_type": "stream",
          "name": "stderr",
          "text": [
            "/usr/local/lib/python3.7/dist-packages/astroquery/sdss/core.py:877: VisibleDeprecationWarning: Reading unicode strings without specifying the encoding argument is deprecated. Set the encoding, use None for the system default.\n",
            "  comments='#'))\n"
          ]
        }
      ],
      "source": [
        "import matplotlib as mpl\n",
        "import matplotlib.pyplot as plt\n",
        "import numpy as np\n",
        "from astropy.coordinates import SkyCoord, Distance\n",
        "import astropy.coordinates as coord\n",
        "from astropy import units as u\n",
        "from astropy.cosmology import WMAP7\n",
        "from astroquery.sdss import SDSS\n",
        "\n",
        "\n",
        "pos = coords.SkyCoord('0h8m05.63s +14d50m23.3s', frame='icrs')\n",
        "print(pos.ra.deg, pos.dec.deg)\n",
        "\n",
        "query = \" SELECT TOP 1000 objID, ra ,dec, z, zerr, class, \\\n",
        "        cModelMag_u, cModelMag_g, cModelMag_r, cModelMag_i, \\\n",
        "        cModelMag_z FROM  SpecPhotoAll  WHERE (class = 'GALAXY') \"\n",
        "\n",
        "\n",
        "res = SDSS.query_sql(query)\n"
      ]
    },
    {
      "cell_type": "code",
      "source": [
        "res['cModelMag_u']"
      ],
      "metadata": {
        "colab": {
          "base_uri": "https://localhost:8080/",
          "height": 571
        },
        "id": "eANToNQLItSi",
        "outputId": "4c2cffc4-22df-4a65-c59d-bc2634a70026"
      },
      "execution_count": 77,
      "outputs": [
        {
          "output_type": "execute_result",
          "data": {
            "text/plain": [
              "<Column name='cModelMag_u' dtype='float64' length=1000>\n",
              "19.39232\n",
              "20.48517\n",
              "23.73193\n",
              " 18.5304\n",
              " 18.5304\n",
              "21.09632\n",
              "18.22392\n",
              "20.12718\n",
              " 21.9256\n",
              "19.33004\n",
              "22.12822\n",
              "18.54981\n",
              "     ...\n",
              "24.93384\n",
              "24.99047\n",
              "24.23584\n",
              "21.81787\n",
              "19.76644\n",
              "24.06316\n",
              "22.39916\n",
              "22.22304\n",
              "21.77148\n",
              "23.09252\n",
              "25.94675\n",
              " 23.5352"
            ],
            "text/html": [
              "&lt;Column name=&apos;cModelMag_u&apos; dtype=&apos;float64&apos; length=1000&gt;\n",
              "<table>\n",
              "<tr><td>19.39232</td></tr>\n",
              "<tr><td>20.48517</td></tr>\n",
              "<tr><td>23.73193</td></tr>\n",
              "<tr><td>18.5304</td></tr>\n",
              "<tr><td>18.5304</td></tr>\n",
              "<tr><td>21.09632</td></tr>\n",
              "<tr><td>18.22392</td></tr>\n",
              "<tr><td>20.12718</td></tr>\n",
              "<tr><td>21.9256</td></tr>\n",
              "<tr><td>19.33004</td></tr>\n",
              "<tr><td>22.12822</td></tr>\n",
              "<tr><td>18.54981</td></tr>\n",
              "<tr><td>...</td></tr>\n",
              "<tr><td>24.93384</td></tr>\n",
              "<tr><td>24.99047</td></tr>\n",
              "<tr><td>24.23584</td></tr>\n",
              "<tr><td>21.81787</td></tr>\n",
              "<tr><td>19.76644</td></tr>\n",
              "<tr><td>24.06316</td></tr>\n",
              "<tr><td>22.39916</td></tr>\n",
              "<tr><td>22.22304</td></tr>\n",
              "<tr><td>21.77148</td></tr>\n",
              "<tr><td>23.09252</td></tr>\n",
              "<tr><td>25.94675</td></tr>\n",
              "<tr><td>23.5352</td></tr>\n",
              "</table>"
            ]
          },
          "metadata": {},
          "execution_count": 77
        }
      ]
    },
    {
      "cell_type": "code",
      "source": [
        "\n",
        "ra=res['ra']\n",
        "dec=res['dec']\n",
        "u=res['cModelMag_u']\n",
        "r=res['cModelMag_r']\n",
        "g=res['cModelMag_g']\n",
        "i=res['cModelMag_i']\n",
        "z=res['cModelMag_z']\n",
        "plt.scatter(ra,dec,alpha=0.2)\n"
      ],
      "metadata": {
        "colab": {
          "base_uri": "https://localhost:8080/",
          "height": 285
        },
        "id": "ItNO47Thji9Q",
        "outputId": "9fbb4f08-722a-42e6-cc94-9e128582fc74"
      },
      "execution_count": 78,
      "outputs": [
        {
          "output_type": "execute_result",
          "data": {
            "text/plain": [
              "<matplotlib.collections.PathCollection at 0x7f3c07223f10>"
            ]
          },
          "metadata": {},
          "execution_count": 78
        },
        {
          "output_type": "display_data",
          "data": {
            "text/plain": [
              "<Figure size 432x288 with 1 Axes>"
            ],
            "image/png": "[encoded data removed]"
          },
          "metadata": {
            "needs_background": "light"
          }
        }
      ]
    },
    {
      "cell_type": "code",
      "source": [],
      "metadata": {
        "id": "WJ4WeTQCIA6j"
      },
      "execution_count": 79,
      "outputs": []
    },
    {
      "cell_type": "code",
      "source": [],
      "metadata": {
        "id": "-qMoOxKovU_G"
      },
      "execution_count": 79,
      "outputs": []
    },
    {
      "cell_type": "code",
      "source": [],
      "metadata": {
        "id": "EaP1JTwpxmhk"
      },
      "execution_count": 79,
      "outputs": []
    },
    {
      "cell_type": "code",
      "source": [],
      "metadata": {
        "id": "WWcZdbTlAnSR"
      },
      "execution_count": null,
      "outputs": []
    }
  ]
}